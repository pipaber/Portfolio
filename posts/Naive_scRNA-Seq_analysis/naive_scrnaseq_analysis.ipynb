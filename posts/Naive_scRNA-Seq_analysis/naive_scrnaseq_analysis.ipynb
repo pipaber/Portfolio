{
 "cells": [
  {
   "cell_type": "markdown",
   "metadata": {},
   "source": [
    "---\n",
    "title: \"Analysis of Hyper-parameters on Single Cell RNA-Seq Data\"\n",
    "format:\n",
    "    html:\n",
    "        toc: true\n",
    "        highlight-style: ayu\n",
    "---"
   ]
  },
  {
   "cell_type": "code",
   "execution_count": 67,
   "metadata": {},
   "outputs": [],
   "source": [
    "import numpy as np\n",
    "import pandas as pd\n",
    "from sklearn.decomposition import PCA\n",
    "import matplotlib.pyplot as plt\n",
    "from sklearn.manifold import MDS\n",
    "from sklearn.manifold import TSNE\n",
    "from sklearn.cluster import KMeans\n",
    "from sklearn.mixture import GaussianMixture\n",
    "from sklearn.metrics import silhouette_score, silhouette_samples\n",
    "from sklearn.linear_model import LogisticRegression, LogisticRegressionCV\n",
    "from sklearn.metrics import silhouette_score, silhouette_samples\n",
    "import scanpy as sc\n",
    "from sklearn.model_selection import train_test_split\n",
    "import plotly.graph_objects as go\n",
    "import plotly.figure_factory as ff\n"
   ]
  },
  {
   "cell_type": "markdown",
   "metadata": {},
   "source": [
    "## Getting the Data"
   ]
  },
  {
   "cell_type": "markdown",
   "metadata": {},
   "source": [
    "We will analyze three types of hyper-parameters: Perplexity on t-SNE, number of clusters chosen from an unsupervised method and how these affect the quality of the selected features and the type of regularization.\n",
    "\n",
    "To performs these three tasks we are gonna work with real data. Specifically, we're gonna use scRNA-Seq data from a brain sample (GSM6900730). The data is available on https://www.ncbi.nlm.nih.gov/geo/query/acc.cgi?acc=GSM6900730.  "
   ]
  },
  {
   "cell_type": "code",
   "execution_count": 68,
   "metadata": {},
   "outputs": [
    {
     "name": "stdout",
     "output_type": "stream",
     "text": [
      "Downloaded GSM6900730_JLE16_B1_barcodes.tsv.gz\n",
      "Downloaded GSM6900730_JLE16_B1_features.tsv.gz\n",
      "Downloaded GSM6900730_JLE16_B1_matrix.mtx.gz\n"
     ]
    }
   ],
   "source": [
    "# download the data and load it for the posterior analysis\n",
    "import urllib.parse\n",
    "import requests\n",
    "import urllib\n",
    "from bs4 import BeautifulSoup\n",
    "import os\n",
    "from ftplib import FTP\n",
    "\n",
    "url = \"https://www.ncbi.nlm.nih.gov/geo/query/acc.cgi?acc=GSM6900730\"\n",
    "\n",
    "response = requests.get(url)\n",
    "\n",
    "soup = BeautifulSoup(response.text, 'html.parser')\n",
    "\n",
    "table = soup.find('table')\n",
    "links = table.find_all('a')\n",
    "\n",
    "download_dir = os.getcwd()\n",
    "\n",
    "for link in links:\n",
    "    # Get the URL of the link\n",
    "    link_url = link.get('href')\n",
    "    # Check if the link contains 'ftp'\n",
    "    if link_url and 'ftp' in link_url:\n",
    "        # Parse the FTP URL\n",
    "        link_url = urllib.parse.unquote(link_url)\n",
    "        parsed_url = urllib.parse.urlparse(link_url)\n",
    "        hostname = parsed_url.hostname\n",
    "        path = parsed_url.path\n",
    "        \n",
    "        # Connect to the FTP server\n",
    "        ftp = FTP(hostname)\n",
    "        ftp.login()\n",
    "        ftp.cwd(os.path.dirname(path))\n",
    "    \n",
    "        # Extract the file name from the path\n",
    "        file_name = os.path.basename(path)\n",
    "        local_file_path = os.path.join(download_dir, file_name)\n",
    "        \n",
    "        with open(local_file_path, \"wb\") as local_file:\n",
    "            ftp.retrbinary(f\"RETR {file_name}\", local_file.write)\n",
    "    \n",
    "        ftp.quit()\n",
    "        print(f\"Downloaded {file_name}\")\n",
    "        \n"
   ]
  },
  {
   "cell_type": "code",
   "execution_count": 69,
   "metadata": {},
   "outputs": [],
   "source": [
    "scdata = sc.read_10x_mtx('D:/Data Analysis Statistical Modeling and Computation in Applications/data/scrnaseq data/',\n",
    "                         var_names = 'gene_symbols',\n",
    "                         cache=True)\n",
    "\n",
    "X_sc = scdata.X.toarray()\n"
   ]
  }
 ],
 "metadata": {
  "kernelspec": {
   "display_name": "piero",
   "language": "python",
   "name": "python3"
  },
  "language_info": {
   "codemirror_mode": {
    "name": "ipython",
    "version": 3
   },
   "file_extension": ".py",
   "mimetype": "text/x-python",
   "name": "python",
   "nbconvert_exporter": "python",
   "pygments_lexer": "ipython3",
   "version": "3.10.14"
  }
 },
 "nbformat": 4,
 "nbformat_minor": 2
}
