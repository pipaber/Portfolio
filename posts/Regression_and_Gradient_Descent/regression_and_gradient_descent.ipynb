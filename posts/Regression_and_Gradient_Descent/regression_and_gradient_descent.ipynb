{
 "cells": [
  {
   "cell_type": "markdown",
   "metadata": {},
   "source": [
    "---\n",
    "title: \"Likelihood Ratio Test, Regression and Gradient Descent\"\n",
    "format:\n",
    "    html:\n",
    "        toc: true\n",
    "---"
   ]
  },
  {
   "cell_type": "markdown",
   "metadata": {},
   "source": [
    "## Likelihood Ratio Test"
   ]
  },
  {
   "cell_type": "code",
   "execution_count": 3,
   "metadata": {},
   "outputs": [],
   "source": [
    "import numpy as np\n",
    "import pandas as pd\n",
    "import matplotlib.pyplot as plt\n",
    "import scipy as sc\n",
    "import seaborn as sns"
   ]
  },
  {
   "cell_type": "markdown",
   "metadata": {},
   "source": [
    "The file gamma-ray.csv contains a small quantity of data collected from the Compton Gamma Ray Observatory, a satellite launched by NASA in 1991 (http://cossc.gsfc.nasa.gov/). For each of 100 sequential time intervals of variable lengths (given in seconds), the number of gamma rays originating in a particular area of the sky was recorded. \n",
    "\n",
    "For this analysis, we would like to check the assumption that the emission rate is constant."
   ]
  },
  {
   "cell_type": "markdown",
   "metadata": {},
   "source": [
    "First, let's check the distribution of the number of gamma rays"
   ]
  },
  {
   "cell_type": "code",
   "execution_count": 6,
   "metadata": {},
   "outputs": [
    {
     "data": {
      "text/plain": [
       "<seaborn.axisgrid.FacetGrid at 0x20a74b5d1c0>"
      ]
     },
     "execution_count": 6,
     "metadata": {},
     "output_type": "execute_result"
    },
    {
     "data": {
      "image/png": "[encoded data removed]",
      "text/plain": [
       "<Figure size 500x500 with 1 Axes>"
      ]
     },
     "metadata": {},
     "output_type": "display_data"
    }
   ],
   "source": [
    "df = pd.read_csv(\"gamma-ray.csv\", sep=\",\")\n",
    "\n",
    "sns.set_theme(style=\"darkgrid\")\n",
    "sns.displot(df,x=\"count\")"
   ]
  },
  {
   "cell_type": "markdown",
   "metadata": {},
   "source": [
    "The number of these gamma rays is discrete and non-negative. We can assume that the gamma rays emerge independently of one another, and at constant rate in each time interval.\n",
    "Based on this assumption, a Poisson model is a good model assumption. Each observation $G_i$ follows a poisson distribution with rate $\\lambda_i$ times the time interval $t_i$.\n",
    "\n",
    "$$G_i \\thicksim Poisson(\\lambda_i * t_i)$$"
   ]
  },
  {
   "cell_type": "markdown",
   "metadata": {},
   "source": [
    "THe hypothesis that we wanna test is that the emission rate is constat so:\n",
    "\n",
    "$H_0: \\lambda_0 = \\lambda_1 = ... = \\lambda_{99}$\n",
    "\n",
    "And the alternative hypothesis is that the emisison rates are different:\n",
    "\n",
    "$H_A: \\lambda_i \\neq \\lambda_j$ for some i and j"
   ]
  },
  {
   "cell_type": "markdown",
   "metadata": {},
   "source": [
    "The most plausible parameter for $\\lambda$ under the null hypothesis is the maximun likelihood estimator (MLE).\n",
    "\n",
    "Given the poisson distribution, the derivation goes as follows:\n",
    "\n",
    "$$f(G_0,G_1,...,G_{99} | \\lambda) = \\prod_{i=0}^{99} \\frac{e^{-\\lambda*t_i}*(\\lambda*t_i)^{G_i}}{G_i!}$$\n",
    "\n",
    "$$ln(f) = -\\lambda \\sum_{i=0}^{99} t_i + ln(\\lambda) \\sum_{i=0}^{99} G_i + ln(\\prod_{i=0}^{99} t_i^{G_i})) - ln(\\prod_{i=0}^{99} G_i!)$$\n",
    "\n",
    "Then, we derivate w.r.t parameter $\\lambda$ and set the derivative to 0 to find the optimal $\\lambda$.\n",
    "\n",
    "$$0 = -\\sum_{i=0}^{99}t_i + \\sum_{i=0}^{99} \\frac{G_i}{\\lambda}$$\n",
    "\n",
    "$$\\hat{\\lambda} = \\frac{\\sum_{i=0}^{99} G_i}{\\sum_{i=0}^{99} t_i}$$"
   ]
  },
  {
   "cell_type": "code",
   "execution_count": 10,
   "metadata": {},
   "outputs": [
    {
     "data": {
      "text/plain": [
       "0.0038808514969907496"
      ]
     },
     "execution_count": 10,
     "metadata": {},
     "output_type": "execute_result"
    }
   ],
   "source": [
    "lambda_null = df[\"count\"].sum() / df[\"seconds\"].sum()\n",
    "\n",
    "lambda_null"
   ]
  },
  {
   "cell_type": "markdown",
   "metadata": {},
   "source": [
    "Similarly, we can calculate a plausible value for the alternative hypothesis with MLE.\n",
    "\n",
    "$$ln(f) = -\\sum_{i=0}^{99} \\lambda_i*t_i + \\sum_{i=0}^{99} G_i*ln(\\lambda_i) + ln(\\prod_{i=0}^{99} G_i*ln(t_i)) - ln(\\prod_{i=0}^{99} G_i!)$$\n",
    "\n",
    "WE take the partial derivative w.r.t each parameter $\\lambda_i$ to find the optimal $\\lambda_i$\n",
    "\n",
    "$$0 = -t_i + \\frac{G_i}{\\lambda_i}$$\n",
    "\n",
    "$$\\hat{\\lambda_i} = \\frac{G_i}{t_i}$$"
   ]
  },
  {
   "cell_type": "code",
   "execution_count": 11,
   "metadata": {},
   "outputs": [
    {
     "data": {
      "text/plain": [
       "0     0.000000\n",
       "1     0.000000\n",
       "2     0.000000\n",
       "3     0.000000\n",
       "4     0.009804\n",
       "        ...   \n",
       "95    0.025840\n",
       "96    0.000000\n",
       "97    0.000000\n",
       "98    0.000000\n",
       "99    0.000000\n",
       "Length: 100, dtype: float64"
      ]
     },
     "execution_count": 11,
     "metadata": {},
     "output_type": "execute_result"
    }
   ],
   "source": [
    "lambdas_alt = df[\"count\"]/df[\"seconds\"]\n",
    "\n",
    "lambdas_alt"
   ]
  },
  {
   "cell_type": "markdown",
   "metadata": {},
   "source": [
    "Now to test these hypotheses, we are gonna use the likelihood ratio test:\n",
    "\n",
    "$$\\Lambda(x) = -2ln(\\frac{argmax f(G_0,G_1,...,G_{99}| \\lambda)}{argmax f(G_0,G_1,...,G_{99}| \\lambda_0,...,\\lambda_{99})})$$\n",
    "\n",
    "which asymptotic distribution $X_{100-1 = 99}^{2}$"
   ]
  },
  {
   "cell_type": "code",
   "execution_count": 17,
   "metadata": {},
   "outputs": [
    {
     "data": {
      "text/plain": [
       "104.33272117042188"
      ]
     },
     "execution_count": 17,
     "metadata": {},
     "output_type": "execute_result"
    }
   ],
   "source": [
    "lh_null = sc.stats.poisson.pmf(k=df[\"count\"], mu=lambda_null)\n",
    "\n",
    "lh_alt = sc.stats.poisson.pmf(k=df[\"count\"], mu=lambdas_alt)\n",
    "\n",
    "llh_test = -2*np.log(lh_null.prod() / lh_alt.prod())\n",
    "\n",
    "llh_test"
   ]
  },
  {
   "cell_type": "markdown",
   "metadata": {},
   "source": [
    "We can see the distribution of the chi-squared pdf at 99 degrees of freedom"
   ]
  },
  {
   "cell_type": "code",
   "execution_count": 20,
   "metadata": {},
   "outputs": [
    {
     "data": {
      "image/png": "[encoded data removed]",
      "text/plain": [
       "<Figure size 640x480 with 1 Axes>"
      ]
     },
     "metadata": {},
     "output_type": "display_data"
    }
   ],
   "source": [
    "plot_Xs = np.arange(50,150,0.1)\n",
    "plt.plot(plot_Xs, sc.stats.chi2.pdf(plot_Xs, 99))\n",
    "plt.show()"
   ]
  },
  {
   "cell_type": "markdown",
   "metadata": {},
   "source": [
    "And see the value that give a p-value of 0.05"
   ]
  },
  {
   "cell_type": "code",
   "execution_count": 21,
   "metadata": {},
   "outputs": [
    {
     "data": {
      "text/plain": [
       "123.22522145336181"
      ]
     },
     "execution_count": 21,
     "metadata": {},
     "output_type": "execute_result"
    }
   ],
   "source": [
    "# We can calculate the Lambda that would give a p-value of 0.05 by using the inverse survival function\n",
    "sc.stats.chi2.isf(0.05, 99)"
   ]
  },
  {
   "cell_type": "markdown",
   "metadata": {},
   "source": [
    "Calculating our p-value:"
   ]
  },
  {
   "cell_type": "code",
   "execution_count": 22,
   "metadata": {},
   "outputs": [
    {
     "name": "stdout",
     "output_type": "stream",
     "text": [
      "0.337398546433923\n"
     ]
    }
   ],
   "source": [
    "pvalue = sc.stats.chi2.sf(llh_test, 99)\n",
    "print(pvalue)"
   ]
  },
  {
   "cell_type": "markdown",
   "metadata": {},
   "source": [
    "We can conclude that we cannot reject our null hypothesis, emission rate of gamma rays appear to be constant."
   ]
  }
 ],
 "metadata": {
  "kernelspec": {
   "display_name": "piero",
   "language": "python",
   "name": "python3"
  },
  "language_info": {
   "codemirror_mode": {
    "name": "ipython",
    "version": 3
   },
   "file_extension": ".py",
   "mimetype": "text/x-python",
   "name": "python",
   "nbconvert_exporter": "python",
   "pygments_lexer": "ipython3",
   "version": "3.9.18"
  }
 },
 "nbformat": 4,
 "nbformat_minor": 2
}
